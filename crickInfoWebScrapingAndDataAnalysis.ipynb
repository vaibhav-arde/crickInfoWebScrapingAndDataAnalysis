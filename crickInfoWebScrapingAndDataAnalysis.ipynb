{
  "nbformat": 4,
  "nbformat_minor": 0,
  "metadata": {
    "colab": {
      "provenance": [],
      "authorship_tag": "ABX9TyMN3FEgV92W5ZfvcKvT+Yqn",
      "include_colab_link": true
    },
    "kernelspec": {
      "name": "python3",
      "display_name": "Python 3"
    },
    "language_info": {
      "name": "python"
    }
  },
  "cells": [
    {
      "cell_type": "markdown",
      "metadata": {
        "id": "view-in-github",
        "colab_type": "text"
      },
      "source": [
        "<a href=\"https://colab.research.google.com/github/vaibhav-arde/crickInfoWebScrapingAndDataAnalysis/blob/main/crickInfoWebScrapingAndDataAnalysis.ipynb\" target=\"_parent\"><img src=\"https://colab.research.google.com/assets/colab-badge.svg\" alt=\"Open In Colab\"/></a>"
      ]
    },
    {
      "cell_type": "code",
      "execution_count": 2,
      "metadata": {
        "colab": {
          "base_uri": "https://localhost:8080/"
        },
        "id": "lKmJJnqQ5_km",
        "outputId": "0765435c-c2ff-4780-b53f-2aeee950b009"
      },
      "outputs": [
        {
          "output_type": "stream",
          "name": "stdout",
          "text": [
            "Found 1 tables on the webpage\n",
            "          Team 1        Team 2        Winner      Margin     Ground  \\\n",
            "0        Namibia     Sri Lanka       Namibia     55 runs    Geelong   \n",
            "1    Netherlands        U.A.E.   Netherlands   3 wickets    Geelong   \n",
            "2       Scotland   West Indies      Scotland     42 runs     Hobart   \n",
            "3        Ireland      Zimbabwe      Zimbabwe     31 runs     Hobart   \n",
            "4        Namibia   Netherlands   Netherlands   5 wickets    Geelong   \n",
            "5      Sri Lanka        U.A.E.     Sri Lanka     79 runs    Geelong   \n",
            "6        Ireland      Scotland       Ireland   6 wickets     Hobart   \n",
            "7    West Indies      Zimbabwe   West Indies     31 runs     Hobart   \n",
            "8    Netherlands     Sri Lanka     Sri Lanka     16 runs    Geelong   \n",
            "9        Namibia        U.A.E.        U.A.E.      7 runs    Geelong   \n",
            "10       Ireland   West Indies       Ireland   9 wickets     Hobart   \n",
            "11      Scotland      Zimbabwe      Zimbabwe   5 wickets     Hobart   \n",
            "12     Australia   New Zealand   New Zealand     89 runs     Sydney   \n",
            "13   Afghanistan       England       England   5 wickets      Perth   \n",
            "14       Ireland     Sri Lanka     Sri Lanka   9 wickets     Hobart   \n",
            "15         India      Pakistan         India   4 wickets  Melbourne   \n",
            "16    Bangladesh   Netherlands    Bangladesh      9 runs     Hobart   \n",
            "17  South Africa      Zimbabwe     no result           -     Hobart   \n",
            "18     Australia     Sri Lanka     Australia   7 wickets      Perth   \n",
            "19       England       Ireland       Ireland      5 runs  Melbourne   \n",
            "20    Bangladesh  South Africa  South Africa    104 runs     Sydney   \n",
            "21         India   Netherlands         India     56 runs     Sydney   \n",
            "22      Pakistan      Zimbabwe      Zimbabwe       1 run      Perth   \n",
            "23   New Zealand     Sri Lanka   New Zealand     65 runs     Sydney   \n",
            "24    Bangladesh      Zimbabwe    Bangladesh      3 runs   Brisbane   \n",
            "25   Netherlands      Pakistan      Pakistan   6 wickets      Perth   \n",
            "26         India  South Africa  South Africa   5 wickets      Perth   \n",
            "27     Australia       Ireland     Australia     42 runs   Brisbane   \n",
            "28   Afghanistan     Sri Lanka     Sri Lanka   6 wickets   Brisbane   \n",
            "29       England   New Zealand       England     20 runs   Brisbane   \n",
            "30   Netherlands      Zimbabwe   Netherlands   5 wickets   Adelaide   \n",
            "31    Bangladesh         India         India      5 runs   Adelaide   \n",
            "32      Pakistan  South Africa      Pakistan     33 runs     Sydney   \n",
            "33       Ireland   New Zealand   New Zealand     35 runs   Adelaide   \n",
            "34     Australia   Afghanistan     Australia      4 runs   Adelaide   \n",
            "35       England     Sri Lanka       England   4 wickets     Sydney   \n",
            "36   Netherlands  South Africa   Netherlands     13 runs   Adelaide   \n",
            "37    Bangladesh      Pakistan      Pakistan   5 wickets   Adelaide   \n",
            "38         India      Zimbabwe         India     71 runs  Melbourne   \n",
            "39   New Zealand      Pakistan      Pakistan   7 wickets     Sydney   \n",
            "40       England         India       England  10 wickets   Adelaide   \n",
            "41       England      Pakistan       England   5 wickets  Melbourne   \n",
            "\n",
            "      Match Date    Scorecard  \n",
            "0   Oct 16, 2022  T20I # 1823  \n",
            "1   Oct 16, 2022  T20I # 1825  \n",
            "2   Oct 17, 2022  T20I # 1826  \n",
            "3   Oct 17, 2022  T20I # 1828  \n",
            "4   Oct 18, 2022  T20I # 1830  \n",
            "5   Oct 18, 2022  T20I # 1832  \n",
            "6   Oct 19, 2022  T20I # 1833  \n",
            "7   Oct 19, 2022  T20I # 1834  \n",
            "8   Oct 20, 2022  T20I # 1835  \n",
            "9   Oct 20, 2022  T20I # 1836  \n",
            "10  Oct 21, 2022  T20I # 1837  \n",
            "11  Oct 21, 2022  T20I # 1838  \n",
            "12  Oct 22, 2022  T20I # 1839  \n",
            "13  Oct 22, 2022  T20I # 1840  \n",
            "14  Oct 23, 2022  T20I # 1841  \n",
            "15  Oct 23, 2022  T20I # 1842  \n",
            "16  Oct 24, 2022  T20I # 1843  \n",
            "17  Oct 24, 2022  T20I # 1844  \n",
            "18  Oct 25, 2022  T20I # 1845  \n",
            "19  Oct 26, 2022  T20I # 1846  \n",
            "20  Oct 27, 2022  T20I # 1847  \n",
            "21  Oct 27, 2022  T20I # 1848  \n",
            "22  Oct 27, 2022  T20I # 1849  \n",
            "23  Oct 29, 2022  T20I # 1850  \n",
            "24  Oct 30, 2022  T20I # 1851  \n",
            "25  Oct 30, 2022  T20I # 1852  \n",
            "26  Oct 30, 2022  T20I # 1853  \n",
            "27  Oct 31, 2022  T20I # 1855  \n",
            "28   Nov 1, 2022  T20I # 1856  \n",
            "29   Nov 1, 2022  T20I # 1858  \n",
            "30   Nov 2, 2022  T20I # 1859  \n",
            "31   Nov 2, 2022  T20I # 1860  \n",
            "32   Nov 3, 2022  T20I # 1861  \n",
            "33   Nov 4, 2022  T20I # 1862  \n",
            "34   Nov 4, 2022  T20I # 1864  \n",
            "35   Nov 5, 2022  T20I # 1867  \n",
            "36   Nov 6, 2022  T20I # 1871  \n",
            "37   Nov 6, 2022  T20I # 1872  \n",
            "38   Nov 6, 2022  T20I # 1873  \n",
            "39   Nov 9, 2022  T20I # 1877  \n",
            "40  Nov 10, 2022  T20I # 1878  \n",
            "41  Nov 13, 2022  T20I # 1879  \n"
          ]
        }
      ],
      "source": [
        "import pandas as pd\n",
        "\n",
        "# URL of the webpage to scrape\n",
        "url = \"https://www.espncricinfo.com/records/tournament/team-match-results/icc-men-s-t20-world-cup-2022-23-14450\"\n",
        "\n",
        "# Read the tables from the URL into a list of DataFrames\n",
        "tables = pd.read_html(url)\n",
        "\n",
        "# Check the number of tables found\n",
        "print(f\"Found {len(tables)} tables on the webpage\")\n",
        "df = tables[0]\n",
        "# Assuming the table you want is the first one (you may need to inspect the webpage to verify)\n",
        "if len(tables) > 0:\n",
        "    # Select the first DataFrame (or the one that contains the data you need)\n",
        "    df = tables[0]\n",
        "\n",
        "    # Print the DataFrame to see the scraped data\n",
        "    print(df)\n",
        "else:\n",
        "    print(\"No tables found on the webpage\")\n"
      ]
    },
    {
      "cell_type": "code",
      "source": [
        "print(type(df))"
      ],
      "metadata": {
        "colab": {
          "base_uri": "https://localhost:8080/"
        },
        "id": "cz82OSSv65eA",
        "outputId": "c17b4661-2fee-4a2e-addb-01d5c789b5dc"
      },
      "execution_count": 6,
      "outputs": [
        {
          "output_type": "stream",
          "name": "stdout",
          "text": [
            "<class 'pandas.core.frame.DataFrame'>\n"
          ]
        }
      ]
    },
    {
      "cell_type": "code",
      "source": [
        "import pandas as pd\n",
        "\n",
        "# URL of the webpage to scrape\n",
        "url = \"https://www.espncricinfo.com/records/tournament/team-match-results/icc-men-s-t20-world-cup-2022-23-14450\"\n",
        "\n",
        "# Read the tables from the URL into a list of DataFrames\n",
        "tables = pd.read_html(url)\n",
        "\n",
        "# Find the table that contains the links (you may need to inspect the webpage to verify)\n",
        "target_table = None\n",
        "for table in tables:\n",
        "    if \"Scorecard\" in table.columns:  # Change \"Link\" to the header name that indicates links\n",
        "        target_table = table\n",
        "        break\n",
        "\n",
        "# Check if the target table was found\n",
        "if target_table is not None:\n",
        "    # Extract the links from the \"Link\" column (replace \"Link\" with the actual header name)\n",
        "    links = target_table[\"Scorecard\"]\n",
        "\n",
        "    # Print the links\n",
        "    print(links)\n",
        "else:\n",
        "    print(\"No table with column Scorecard found on the webpage\")\n"
      ],
      "metadata": {
        "colab": {
          "base_uri": "https://localhost:8080/"
        },
        "id": "Obcw6g2D68sB",
        "outputId": "5535d71a-4e3d-4fbf-ab2d-c782f90775af"
      },
      "execution_count": 7,
      "outputs": [
        {
          "output_type": "stream",
          "name": "stdout",
          "text": [
            "0     T20I # 1823\n",
            "1     T20I # 1825\n",
            "2     T20I # 1826\n",
            "3     T20I # 1828\n",
            "4     T20I # 1830\n",
            "5     T20I # 1832\n",
            "6     T20I # 1833\n",
            "7     T20I # 1834\n",
            "8     T20I # 1835\n",
            "9     T20I # 1836\n",
            "10    T20I # 1837\n",
            "11    T20I # 1838\n",
            "12    T20I # 1839\n",
            "13    T20I # 1840\n",
            "14    T20I # 1841\n",
            "15    T20I # 1842\n",
            "16    T20I # 1843\n",
            "17    T20I # 1844\n",
            "18    T20I # 1845\n",
            "19    T20I # 1846\n",
            "20    T20I # 1847\n",
            "21    T20I # 1848\n",
            "22    T20I # 1849\n",
            "23    T20I # 1850\n",
            "24    T20I # 1851\n",
            "25    T20I # 1852\n",
            "26    T20I # 1853\n",
            "27    T20I # 1855\n",
            "28    T20I # 1856\n",
            "29    T20I # 1858\n",
            "30    T20I # 1859\n",
            "31    T20I # 1860\n",
            "32    T20I # 1861\n",
            "33    T20I # 1862\n",
            "34    T20I # 1864\n",
            "35    T20I # 1867\n",
            "36    T20I # 1871\n",
            "37    T20I # 1872\n",
            "38    T20I # 1873\n",
            "39    T20I # 1877\n",
            "40    T20I # 1878\n",
            "41    T20I # 1879\n",
            "Name: Scorecard, dtype: object\n"
          ]
        }
      ]
    },
    {
      "cell_type": "code",
      "source": [
        "import pandas as pd\n",
        "import requests\n",
        "from bs4 import BeautifulSoup\n",
        "\n",
        "# URL of the webpage to scrape\n",
        "url = \"https://www.espncricinfo.com/records/tournament/team-match-results/icc-men-s-t20-world-cup-2022-23-14450\"\n",
        "\n",
        "# Send a GET request to the URL\n",
        "response = requests.get(url)\n",
        "dfAllLinks = None\n",
        "# Check if the request was successful\n",
        "if response.status_code == 200:\n",
        "    # Parse the HTML content of the page\n",
        "    soup = BeautifulSoup(response.text, 'html.parser')\n",
        "\n",
        "    # Find all the anchor tags (a elements) in the HTML\n",
        "    all_links = soup.select('table tbody tr td:nth-child(7) a')\n",
        "\n",
        "    # Extract the href attributes (URL links)\n",
        "    links = [(\"https://www.espncricinfo.com\" +link.get('href')) for link in all_links if link.get('href')]\n",
        "\n",
        "    # Create a pandas DataFrame to store the links\n",
        "    df = pd.DataFrame({'Links': links})\n",
        "\n",
        "    # Print the DataFrame to see the extracted links\n",
        "    print(df)\n",
        "    dfAllLinks = df\n",
        "else:\n",
        "    print(\"Failed to retrieve the webpage. Status code:\", response.status_code)\n"
      ],
      "metadata": {
        "colab": {
          "base_uri": "https://localhost:8080/"
        },
        "id": "0Yanq5UWCQOU",
        "outputId": "650c676e-ba6c-4a38-9f24-f8f06de50037"
      },
      "execution_count": 18,
      "outputs": [
        {
          "output_type": "stream",
          "name": "stdout",
          "text": [
            "                                                Links\n",
            "0   https://www.espncricinfo.com/series/icc-men-s-...\n",
            "1   https://www.espncricinfo.com/series/icc-men-s-...\n",
            "2   https://www.espncricinfo.com/series/icc-men-s-...\n",
            "3   https://www.espncricinfo.com/series/icc-men-s-...\n",
            "4   https://www.espncricinfo.com/series/icc-men-s-...\n",
            "5   https://www.espncricinfo.com/series/icc-men-s-...\n",
            "6   https://www.espncricinfo.com/series/icc-men-s-...\n",
            "7   https://www.espncricinfo.com/series/icc-men-s-...\n",
            "8   https://www.espncricinfo.com/series/icc-men-s-...\n",
            "9   https://www.espncricinfo.com/series/icc-men-s-...\n",
            "10  https://www.espncricinfo.com/series/icc-men-s-...\n",
            "11  https://www.espncricinfo.com/series/icc-men-s-...\n",
            "12  https://www.espncricinfo.com/series/icc-men-s-...\n",
            "13  https://www.espncricinfo.com/series/icc-men-s-...\n",
            "14  https://www.espncricinfo.com/series/icc-men-s-...\n",
            "15  https://www.espncricinfo.com/series/icc-men-s-...\n",
            "16  https://www.espncricinfo.com/series/icc-men-s-...\n",
            "17  https://www.espncricinfo.com/series/icc-men-s-...\n",
            "18  https://www.espncricinfo.com/series/icc-men-s-...\n",
            "19  https://www.espncricinfo.com/series/icc-men-s-...\n",
            "20  https://www.espncricinfo.com/series/icc-men-s-...\n",
            "21  https://www.espncricinfo.com/series/icc-men-s-...\n",
            "22  https://www.espncricinfo.com/series/icc-men-s-...\n",
            "23  https://www.espncricinfo.com/series/icc-men-s-...\n",
            "24  https://www.espncricinfo.com/series/icc-men-s-...\n",
            "25  https://www.espncricinfo.com/series/icc-men-s-...\n",
            "26  https://www.espncricinfo.com/series/icc-men-s-...\n",
            "27  https://www.espncricinfo.com/series/icc-men-s-...\n",
            "28  https://www.espncricinfo.com/series/icc-men-s-...\n",
            "29  https://www.espncricinfo.com/series/icc-men-s-...\n",
            "30  https://www.espncricinfo.com/series/icc-men-s-...\n",
            "31  https://www.espncricinfo.com/series/icc-men-s-...\n",
            "32  https://www.espncricinfo.com/series/icc-men-s-...\n",
            "33  https://www.espncricinfo.com/series/icc-men-s-...\n",
            "34  https://www.espncricinfo.com/series/icc-men-s-...\n",
            "35  https://www.espncricinfo.com/series/icc-men-s-...\n",
            "36  https://www.espncricinfo.com/series/icc-men-s-...\n",
            "37  https://www.espncricinfo.com/series/icc-men-s-...\n",
            "38  https://www.espncricinfo.com/series/icc-men-s-...\n",
            "39  https://www.espncricinfo.com/series/icc-men-s-...\n",
            "40  https://www.espncricinfo.com/series/icc-men-s-...\n",
            "41  https://www.espncricinfo.com/series/icc-men-s-...\n"
          ]
        }
      ]
    },
    {
      "cell_type": "code",
      "source": [
        "print(dfAllLinks['Links'][0])"
      ],
      "metadata": {
        "colab": {
          "base_uri": "https://localhost:8080/"
        },
        "id": "ZBfvdcKFInTv",
        "outputId": "009c9d91-6e86-4e6c-80a1-269e276b85c9"
      },
      "execution_count": 25,
      "outputs": [
        {
          "output_type": "stream",
          "name": "stdout",
          "text": [
            "https://www.espncricinfo.com/series/icc-men-s-t20-world-cup-2022-23-1298134/namibia-vs-sri-lanka-1st-match-first-round-group-a-1298135/full-scorecard\n"
          ]
        }
      ]
    },
    {
      "cell_type": "code",
      "source": [
        "import pandas as pd\n",
        "\n",
        "# URL of the webpage to scrape\n",
        "url = dfAllLinks['Links'][0]\n",
        "\n",
        "# Read the tables from the URL into a list of DataFrames\n",
        "tables = pd.read_html(url)\n",
        "\n",
        "# Check the number of tables found\n",
        "print(f\"Found {len(tables)} tables on the webpage\")\n",
        "df = tables[0]\n",
        "# Assuming the table you want is the first one (you may need to inspect the webpage to verify)\n",
        "if len(tables) > 0:\n",
        "    # Select the first DataFrame (or the one that contains the data you need)\n",
        "    df = tables[0]\n",
        "\n",
        "    # Print the DataFrame to see the scraped data\n",
        "    print(df.columns)\n",
        "    print(df[['BATTING', 'Unnamed: 1', 'R', 'B', 'M', '4s', '6s', 'SR']].dropna())\n",
        "else:\n",
        "    print(\"No tables found on the webpage\")"
      ],
      "metadata": {
        "colab": {
          "base_uri": "https://localhost:8080/"
        },
        "id": "Kcgtt4V4Ire4",
        "outputId": "e0cfa1dd-e15e-4871-852d-93ae10f1fc5a"
      },
      "execution_count": 36,
      "outputs": [
        {
          "output_type": "stream",
          "name": "stdout",
          "text": [
            "Found 12 tables on the webpage\n",
            "Index(['BATTING', 'Unnamed: 1', 'R', 'B', 'M', '4s', '6s', 'SR', 'Unnamed: 8',\n",
            "       'Unnamed: 9'],\n",
            "      dtype='object')\n",
            "                                              BATTING  \\\n",
            "0                                  Michael van Lingen   \n",
            "2                                       Divan la Cock   \n",
            "4                              Jan Nicol Loftie-Eaton   \n",
            "6                                       Stephan Baard   \n",
            "8                                 Gerhard Erasmus (c)   \n",
            "10                                       Jan Frylinck   \n",
            "12                                        David Wiese   \n",
            "14                                            JJ Smit   \n",
            "17  Did not bat: Zane Green †, Bernard Scholtz, Be...   \n",
            "18  Fall of wickets: 1-6 (Michael van Lingen, 1.2 ...   \n",
            "\n",
            "                                           Unnamed: 1  \\\n",
            "0                        c Pramod Madushan b Chameera   \n",
            "2                         c Shanaka b Pramod Madushan   \n",
            "4                             c †Mendis b Karunaratne   \n",
            "6                     c DM de Silva b Pramod Madushan   \n",
            "8                        c Gunathilaka b PWH de Silva   \n",
            "10                      run out (Gunathilaka/†Mendis)   \n",
            "12                             c †Mendis b Theekshana   \n",
            "14                                            not out   \n",
            "17  Did not bat: Zane Green †, Bernard Scholtz, Be...   \n",
            "18  Fall of wickets: 1-6 (Michael van Lingen, 1.2 ...   \n",
            "\n",
            "                                                    R  \\\n",
            "0                                                   3   \n",
            "2                                                   9   \n",
            "4                                                  20   \n",
            "6                                                  26   \n",
            "8                                                  20   \n",
            "10                                                 44   \n",
            "12                                                  0   \n",
            "14                                                 31   \n",
            "17  Did not bat: Zane Green †, Bernard Scholtz, Be...   \n",
            "18  Fall of wickets: 1-6 (Michael van Lingen, 1.2 ...   \n",
            "\n",
            "                                                    B  \\\n",
            "0                                                   6   \n",
            "2                                                   9   \n",
            "4                                                  12   \n",
            "6                                                  24   \n",
            "8                                                  24   \n",
            "10                                                 28   \n",
            "12                                                  1   \n",
            "14                                                 16   \n",
            "17  Did not bat: Zane Green †, Bernard Scholtz, Be...   \n",
            "18  Fall of wickets: 1-6 (Michael van Lingen, 1.2 ...   \n",
            "\n",
            "                                                    M  \\\n",
            "0                                                   7   \n",
            "2                                                  15   \n",
            "4                                                  18   \n",
            "6                                                  49   \n",
            "8                                                  30   \n",
            "10                                                 44   \n",
            "12                                                  4   \n",
            "14                                                 29   \n",
            "17  Did not bat: Zane Green †, Bernard Scholtz, Be...   \n",
            "18  Fall of wickets: 1-6 (Michael van Lingen, 1.2 ...   \n",
            "\n",
            "                                                   4s  \\\n",
            "0                                                   0   \n",
            "2                                                   1   \n",
            "4                                                   1   \n",
            "6                                                   2   \n",
            "8                                                   0   \n",
            "10                                                  4   \n",
            "12                                                  0   \n",
            "14                                                  2   \n",
            "17  Did not bat: Zane Green †, Bernard Scholtz, Be...   \n",
            "18  Fall of wickets: 1-6 (Michael van Lingen, 1.2 ...   \n",
            "\n",
            "                                                   6s  \\\n",
            "0                                                   0   \n",
            "2                                                   0   \n",
            "4                                                   2   \n",
            "6                                                   0   \n",
            "8                                                   0   \n",
            "10                                                  0   \n",
            "12                                                  0   \n",
            "14                                                  2   \n",
            "17  Did not bat: Zane Green †, Bernard Scholtz, Be...   \n",
            "18  Fall of wickets: 1-6 (Michael van Lingen, 1.2 ...   \n",
            "\n",
            "                                                   SR  \n",
            "0                                               50.00  \n",
            "2                                              100.00  \n",
            "4                                              166.66  \n",
            "6                                              108.33  \n",
            "8                                               83.33  \n",
            "10                                             157.14  \n",
            "12                                               0.00  \n",
            "14                                             193.75  \n",
            "17  Did not bat: Zane Green †, Bernard Scholtz, Be...  \n",
            "18  Fall of wickets: 1-6 (Michael van Lingen, 1.2 ...  \n"
          ]
        }
      ]
    },
    {
      "cell_type": "code",
      "source": [],
      "metadata": {
        "id": "wsA94_RnKlo3"
      },
      "execution_count": null,
      "outputs": []
    }
  ]
}